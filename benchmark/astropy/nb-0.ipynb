{
 "cells": [
  {
   "cell_type": "markdown",
   "metadata": {},
   "source": [
    "# Extracting and Plotting Position-Velocity Diagrams\n",
    "\n",
    "## Authors\n",
    "Adam Ginsburg, Eric Koch\n",
    "\n",
    "## Learning Goals\n",
    "* Extract a position-velocity diagram from a spectral cube using both pixel and sky coordinates using [pvextractor](https://pvextractor.readthedocs.io/en/latest/)\n",
    "* Display the position-velocity diagram with appropriately labeled coordinates\n",
    "* Display the extraction path on the plots\n",
    "\n",
    "## Keywords\n",
    "pv-diagram, spectral cube, pvextractor, radio astronomy, coordinates\n",
    "\n",
    "## Summary\n",
    "In this tutorial, we will extract position-velocity (PV) diagrams from a spectral cube and plot them.\n",
    "\n",
    "Position-velocity diagrams are often used in radio astronomy for analysis of rotating objects, like protostellar disks and galaxies, to measure rotation curves and determine the contained mass.  They are also used in studies of atomic and molecular clouds to show where overlapping emission may point at interactions between distinct clouds.  Both radio and optical position-velocity diagrams are used to study outflows, jets, and winds; in the optical, two-dimensional spectra obtained from long-slit spectrographs naturally produce the equivalent of a position-velocity diagram."
   ]
  },
  {
   "cell_type": "code",
   "execution_count": null,
   "metadata": {},
   "outputs": [],
   "source": []
  },
  {
   "cell_type": "markdown",
   "metadata": {},
   "source": [
    "### Header material\n",
    "\n",
    "We import tools from several packages up front:"
   ]
  },
  {
   "cell_type": "code",
   "execution_count": null,
   "metadata": {},
   "outputs": [],
   "source": [
    "import matplotlib.pyplot as plt\n",
    "import numpy as np\n",
    "from astropy.visualization import quantity_support\n",
    "from astropy import units as u\n",
    "from astropy import wcs\n",
    "\n",
    "# set so that these display properly on black backgrounds\n",
    "plt.rcParams['figure.facecolor']='w'\n",
    "\n",
    "from spectral_cube import SpectralCube\n",
    "\n",
    "from pvextractor import extract_pv_slice, Path"
   ]
  },
  {
   "cell_type": "markdown",
   "metadata": {},
   "source": [
    "Retrieve and open a cube from astropy-data:"
   ]
  },
  {
   "cell_type": "code",
   "execution_count": null,
   "metadata": {},
   "outputs": [],
   "source": [
    "cube = SpectralCube.read(FITS_IMAGE_PATH)\n",
    "cube"
   ]
  },
  {
   "cell_type": "markdown",
   "metadata": {},
   "source": [
    "We show a single channel from the cube to visualize the data spatially.\n",
    "We use pixel units to start; we'll show celestial coordinates later"
   ]
  },
  {
   "cell_type": "code",
   "execution_count": null,
   "metadata": {},
   "outputs": [],
   "source": [
    "plt.imshow(cube[25].value, origin='lower')"
   ]
  },
  {
   "cell_type": "markdown",
   "metadata": {},
   "source": [
    "# PV Extraction from Pixel Coordinates\n",
    "\n",
    "First we create an extraction _path_.\n",
    "This path is the two-dimensional spatial coordinates through which we are cutting out our PV diagram.\n",
    "It is drawn below.\n",
    "\n",
    "The entries are pairs of pixel coordinates, (x,y).  In this case, we've selected arbitrary coordinates for our demonstration, but for your use case, you might pick the axis of an outflow, the major axis of an inclined disk, or a spiral following an arm of a galaxy."
   ]
  },
  {
   "cell_type": "code",
   "execution_count": null,
   "metadata": {},
   "outputs": [],
   "source": [
    "path = Path([(20,20), (40,40), (60,20)])"
   ]
  },
  {
   "cell_type": "markdown",
   "metadata": {},
   "source": [
    "Then we can overplot it on our figure, now with WCS shown.  The plotting uses [WCSAxes](https://docs.astropy.org/en/stable/visualization/wcsaxes/index.html)"
   ]
  },
  {
   "cell_type": "code",
   "execution_count": null,
   "metadata": {},
   "outputs": [],
   "source": [
    "ax = plt.subplot(111, projection=cube.wcs.celestial)\n",
    "ax.imshow(cube[25].value)\n",
    "path.show_on_axis(ax, spacing=1, color='r')\n",
    "ax.set_xlabel(f\"Right Ascension [{cube.wcs.wcs.radesys}]\")\n",
    "ax.set_ylabel(f\"Declination [{cube.wcs.wcs.radesys}]\")"
   ]
  },
  {
   "cell_type": "markdown",
   "metadata": {},
   "source": [
    "`spacing` gives the separation between these points in pixels; we finely sampled by picking one-pixel spacing."
   ]
  },
  {
   "cell_type": "markdown",
   "metadata": {},
   "source": [
    "We can then extract the pv diagram, specifying the same spacing."
   ]
  },
  {
   "cell_type": "code",
   "execution_count": null,
   "metadata": {},
   "outputs": [],
   "source": [
    "pvdiagram = extract_pv_slice(cube=cube, path=path, spacing=1)\n",
    "pvdiagram"
   ]
  },
  {
   "cell_type": "markdown",
   "metadata": {},
   "source": [
    "and plot it.  `pvdiagram` is a `PrimaryHDU` object, so we need to grab the data separately from the header and convert the header to a WCS object:"
   ]
  },
  {
   "cell_type": "code",
   "execution_count": null,
   "metadata": {},
   "outputs": [],
   "source": [
    "ax = plt.subplot(111, projection=wcs.WCS(pvdiagram.header))\n",
    "im = ax.imshow(pvdiagram.data)\n",
    "cb = plt.colorbar(mappable=im)\n",
    "# we could specify the colorbar units like this:\n",
    "# cb.set_label(cube.unit)\n",
    "# but the 'BUNIT' keyword is not set for these data, so we don't know the unit.  We instead manually specify:\n",
    "cb.set_label(\"Brightness Temperature [K]\")"
   ]
  },
  {
   "cell_type": "markdown",
   "metadata": {},
   "source": [
    "Changing units to the more commonly used km/s and more readable arcminutes can be done with [wcsaxes tools](https://docs.astropy.org/en/stable/visualization/wcsaxes/controlling_axes.html):"
   ]
  },
  {
   "cell_type": "code",
   "execution_count": null,
   "metadata": {},
   "outputs": [],
   "source": [
    "ww = wcs.WCS(pvdiagram.header)\n",
    "\n",
    "ax = plt.subplot(111, projection=ww)\n",
    "im = ax.imshow(pvdiagram.data)\n",
    "cb = plt.colorbar(mappable=im)\n",
    "cb.set_label(\"Brightness Temperature [K]\")\n",
    "\n",
    "ax0 = ax.coords[0]\n",
    "ax0.set_format_unit(u.arcmin)\n",
    "ax1 = ax.coords[1]\n",
    "ax1.set_format_unit(u.km/u.s)\n",
    "\n",
    "ax.set_ylabel(\"Velocity [km/s]\")\n",
    "ax.set_xlabel(\"Offset [arcmin]\")"
   ]
  },
  {
   "cell_type": "markdown",
   "metadata": {},
   "source": [
    "We can put all this together:"
   ]
  },
  {
   "cell_type": "code",
   "execution_count": null,
   "metadata": {},
   "outputs": [],
   "source": [
    "# we will use the peak intensity for future display\n",
    "# the warning here can be ignored because the cube is small,\n",
    "# but we don't silence it because it's a legit warning when dealing with big cubes\n",
    "mx = cube.max(axis=0).value"
   ]
  },
  {
   "cell_type": "code",
   "execution_count": null,
   "metadata": {},
   "outputs": [],
   "source": [
    "plt.figure(figsize=(12,6))\n",
    "ax = plt.subplot(121, projection=cube.wcs.celestial)\n",
    "ax.imshow(mx)\n",
    "path.show_on_axis(ax, spacing=1, color='r')\n",
    "\n",
    "ww = wcs.WCS(pvdiagram.header)\n",
    "ax.set_xlabel(f\"Right Ascension [{cube.wcs.wcs.radesys}]\")\n",
    "ax.set_ylabel(f\"Declination [{cube.wcs.wcs.radesys}]\")\n",
    "\n",
    "ax = plt.subplot(122, projection=ww)\n",
    "im = ax.imshow(pvdiagram.data)\n",
    "\n",
    "ax0 = ax.coords[0]\n",
    "ax0.set_format_unit(u.arcmin)\n",
    "ax1 = ax.coords[1]\n",
    "ax1.set_format_unit(u.km/u.s)\n",
    "\n",
    "ax.set_ylabel(\"Velocity [km/s]\")\n",
    "ax.set_xlabel(\"Offset [arcmin]\")"
   ]
  },
  {
   "cell_type": "markdown",
   "metadata": {},
   "source": [
    "# PV Extraction from Sky Coordinates"
   ]
  },
  {
   "cell_type": "markdown",
   "metadata": {},
   "source": [
    "We can also make paths by supplying coordinates defined in an `astropy.coordinates.SkyCoord` to `pvextractor.Path`."
   ]
  },
  {
   "cell_type": "code",
   "execution_count": null,
   "metadata": {},
   "outputs": [],
   "source": [
    "from astropy.coordinates import SkyCoord"
   ]
  },
  {
   "cell_type": "code",
   "execution_count": null,
   "metadata": {},
   "outputs": [],
   "source": [
    "skypath = Path(SkyCoord([3.4, 3.43, 3.42]*u.h, [30.5, 30.75, 30.5]*u.deg, frame='fk5'))"
   ]
  },
  {
   "cell_type": "markdown",
   "metadata": {},
   "source": [
    "We can plot again; the coordinates will be automatically determined"
   ]
  },
  {
   "cell_type": "code",
   "execution_count": null,
   "metadata": {},
   "outputs": [],
   "source": [
    "ax = plt.subplot(111, projection=cube.wcs.celestial)\n",
    "ax.imshow(cube[25].value)\n",
    "skypath.show_on_axis(ax, spacing=1, color='r')\n",
    "ax.set_xlabel(f\"Right Ascension [{cube.wcs.wcs.radesys}]\")\n",
    "ax.set_ylabel(f\"Declination [{cube.wcs.wcs.radesys}]\")"
   ]
  },
  {
   "cell_type": "code",
   "execution_count": null,
   "metadata": {},
   "outputs": [],
   "source": [
    "pvdiagram2 = extract_pv_slice(cube=cube, path=skypath)\n",
    "pvdiagram2"
   ]
  },
  {
   "cell_type": "code",
   "execution_count": null,
   "metadata": {},
   "outputs": [],
   "source": [
    "plt.figure(figsize=(12,6))\n",
    "ax = plt.subplot(121, projection=cube.wcs.celestial)\n",
    "ax.imshow(mx)\n",
    "skypath.show_on_axis(ax, spacing=1, color='r')\n",
    "\n",
    "ww = wcs.WCS(pvdiagram2.header)\n",
    "ax.set_xlabel(f\"Right Ascension [{cube.wcs.wcs.radesys}]\")\n",
    "ax.set_ylabel(f\"Declination [{cube.wcs.wcs.radesys}]\")\n",
    "\n",
    "ax = plt.subplot(122, projection=ww)\n",
    "im = ax.imshow(pvdiagram2.data)\n",
    "\n",
    "ax0 = ax.coords[0]\n",
    "ax0.set_format_unit(u.arcmin)\n",
    "ax1 = ax.coords[1]\n",
    "ax1.set_format_unit(u.km/u.s)\n",
    "\n",
    "ax.set_ylabel(\"Velocity [km/s]\")\n",
    "ax.set_xlabel(\"Offset [arcmin]\")"
   ]
  },
  {
   "cell_type": "markdown",
   "metadata": {},
   "source": [
    "We can also change the aspect ratio of the PV diagram.  The `figsize` parameter controls the figure size, which has some effect, and the `ax.set_aspect` command controls the aspect ratio of the individually displayed pixels"
   ]
  },
  {
   "cell_type": "code",
   "execution_count": null,
   "metadata": {},
   "outputs": [],
   "source": [
    "plt.figure(figsize=(12,6))\n",
    "ax = plt.subplot(121, projection=cube.wcs.celestial)\n",
    "ax.imshow(mx)\n",
    "skypath.show_on_axis(ax, spacing=1, color='r')\n",
    "\n",
    "ww = wcs.WCS(pvdiagram2.header)\n",
    "ax.set_xlabel(f\"Right Ascension [{cube.wcs.wcs.radesys}]\")\n",
    "ax.set_ylabel(f\"Declination [{cube.wcs.wcs.radesys}]\")\n",
    "\n",
    "\n",
    "ax = plt.subplot(122, projection=ww)\n",
    "im = ax.imshow(pvdiagram2.data)\n",
    "ax.set_aspect(2)\n",
    "\n",
    "ax0 = ax.coords[0]\n",
    "ax0.set_format_unit(u.arcmin)\n",
    "ax1 = ax.coords[1]\n",
    "ax1.set_format_unit(u.km/u.s)\n",
    "\n",
    "ax.set_ylabel(\"Velocity [km/s]\")\n",
    "ax.set_xlabel(\"Offset [arcmin]\")"
   ]
  },
  {
   "cell_type": "markdown",
   "metadata": {},
   "source": [
    "## PV Extraction with Spatial Averaging"
   ]
  },
  {
   "cell_type": "markdown",
   "metadata": {},
   "source": [
    "`pvextractor.Path` allows you to specify a `width` to average over, which specifies a spatial range around the path to average over.\n",
    "\n",
    "In other words, it turns our path into a series of consecutive rectangular regions."
   ]
  },
  {
   "cell_type": "code",
   "execution_count": null,
   "metadata": {},
   "outputs": [],
   "source": [
    "skypath2 = Path(SkyCoord([3.4, 3.429, 3.42]*u.h, [30.5, 30.75, 30.5]*u.deg, frame='fk5'), width=2*u.arcmin)"
   ]
  },
  {
   "cell_type": "code",
   "execution_count": null,
   "metadata": {},
   "outputs": [],
   "source": [
    "pvdiagram3 = extract_pv_slice(cube=cube, path=skypath2)"
   ]
  },
  {
   "cell_type": "markdown",
   "metadata": {},
   "source": [
    "We can plot this path as a set of patches to show where we averaged.  The default spacing is 1 pixel,so we plot 1-pixel chunks."
   ]
  },
  {
   "cell_type": "code",
   "execution_count": null,
   "metadata": {},
   "outputs": [],
   "source": [
    "plt.figure(figsize=(12,6))\n",
    "ax = plt.subplot(121, projection=cube.wcs.celestial)\n",
    "ax.imshow(mx)\n",
    "\n",
    "skypath2.show_on_axis(ax, spacing=1,\n",
    "                      edgecolor='r', linestyle=':',\n",
    "                      linewidth=0.75)\n",
    "\n",
    "ww = wcs.WCS(pvdiagram3.header)\n",
    "ax.set_xlabel(f\"Right Ascension [{cube.wcs.wcs.radesys}]\")\n",
    "ax.set_ylabel(f\"Declination [{cube.wcs.wcs.radesys}]\")\n",
    "\n",
    "ax = plt.subplot(122, projection=ww)\n",
    "im = ax.imshow(pvdiagram3.data)\n",
    "ax.set_aspect(2.5)\n",
    "\n",
    "cb = plt.colorbar(mappable=im)\n",
    "cb.set_label(\"Brightness Temperature [K]\")\n",
    "\n",
    "ax0 = ax.coords[0]\n",
    "ax0.set_format_unit(u.arcmin)\n",
    "ax1 = ax.coords[1]\n",
    "ax1.set_format_unit(u.km/u.s)\n",
    "\n",
    "\n",
    "ax.set_ylabel(\"Velocity [km/s]\")\n",
    "ax.set_xlabel(\"Offset [arcmin]\")"
   ]
  },
  {
   "cell_type": "markdown",
   "metadata": {},
   "source": [
    "We can also have more widely spaced chunks.\n",
    "\n",
    "Note that the spacing given to `extract_pv_slice` affects the shape of the output PV diagram, so we also change the aspect ratio:"
   ]
  },
  {
   "cell_type": "code",
   "execution_count": null,
   "metadata": {},
   "outputs": [],
   "source": [
    "pvdiagram4 = extract_pv_slice(cube=cube, path=skypath2, spacing=5)\n",
    "\n",
    "fig = plt.figure(figsize=(12,6))\n",
    "ax = plt.subplot(121, projection=cube.wcs.celestial)\n",
    "ax.imshow(mx)\n",
    "skypath2.show_on_axis(ax, spacing=5,\n",
    "                      edgecolor='w', linestyle=':',\n",
    "                      linewidth=0.75)\n",
    "\n",
    "ww = wcs.WCS(pvdiagram4.header)\n",
    "ax.set_xlabel(f\"Right Ascension [{cube.wcs.wcs.radesys}]\")\n",
    "ax.set_ylabel(f\"Declination [{cube.wcs.wcs.radesys}]\")\n",
    "\n",
    "ax = plt.subplot(122, projection=ww)\n",
    "im = ax.imshow(pvdiagram4.data)\n",
    "cb = plt.colorbar(mappable=im)\n",
    "cb.set_label(\"Brightness Temperature [K]\")\n",
    "ax.set_aspect(0.5)\n",
    "\n",
    "ax0 = ax.coords[0]\n",
    "ax0.set_format_unit(u.arcmin)\n",
    "ax1 = ax.coords[1]\n",
    "ax1.set_format_unit(u.km/u.s)\n",
    "\n",
    "ax.set_ylabel(\"Velocity [km/s]\")\n",
    "ax.set_xlabel(\"Offset [arcmin]\")"
   ]
  },
  {
   "cell_type": "markdown",
   "metadata": {},
   "source": [
    "## Saving\n",
    "\n",
    "Finally, we can save the extracted PV diagram as a FITS file:"
   ]
  },
  {
   "cell_type": "code",
   "execution_count": null,
   "metadata": {},
   "outputs": [],
   "source": [
    "import os\n",
    "OUTPUT = os.environ['OUTPUT']\n",
    "pvdiagram.writeto(OUTPUT + \"/saved_pvdiagram.fits\", overwrite=True)"
   ]
  },
  {
   "cell_type": "markdown",
   "metadata": {},
   "source": [
    "We can also save the figure as a png or pdf:"
   ]
  },
  {
   "cell_type": "code",
   "execution_count": null,
   "metadata": {},
   "outputs": [],
   "source": [
    "fig.savefig(OUTPUT + \"/saved_pvdiagram.png\", bbox_inches='tight')\n",
    "fig.savefig(OUTPUT + \"/saved_pvdiagram.pdf\", bbox_inches='tight')"
   ]
  },
  {
   "cell_type": "code",
   "execution_count": null,
   "metadata": {},
   "outputs": [],
   "source": []
  }
 ],
 "metadata": {
  "kernelspec": {
   "display_name": "Python 3 (ipykernel)",
   "language": "python",
   "name": "python3"
  },
  "language_info": {
   "codemirror_mode": {
    "name": "ipython",
    "version": 3
   },
   "file_extension": ".py",
   "mimetype": "text/x-python",
   "name": "python",
   "nbconvert_exporter": "python",
   "pygments_lexer": "ipython3",
   "version": "3.12.7"
  }
 },
 "nbformat": 4,
 "nbformat_minor": 4
}
